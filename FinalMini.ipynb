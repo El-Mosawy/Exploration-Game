{
 "cells": [
  {
   "cell_type": "markdown",
   "metadata": {},
   "source": [
    "# Mini-Project (level 6)\n",
    "## Haydar Zainolabidin Al Saieg\n",
    "## 13/12/21\n",
    "## Version 1\n"
   ]
  },
  {
   "cell_type": "markdown",
   "metadata": {},
   "source": [
    "### Method 1 name - question\n",
    "\n",
    "#### What it does\n",
    "Allows the user to type in a sequence of characters\n",
    "\n",
    "#### Implementation (how it works)\n",
    "The user can type in a string when this method is called. The user can pass a question to this method. Using the scanner method, a link is created between the keyboard and the scanner software in the program. Whatever is entered by the user is stored inside the variable called question_answer."
   ]
  },
  {
   "cell_type": "code",
   "execution_count": 35,
   "metadata": {},
   "outputs": [],
   "source": [
    "    public static String question(String answer) //method called question. Variable of type String declared in header\n",
    "    {\n",
    "        Scanner scanner = new Scanner(System.in); //creates a link between keyboard and scanner software in program\n",
    "        System.out.println(answer); \n",
    "\n",
    "        String question_answer = scanner.nextLine(); //stores whatever the user types in, in this string\n",
    "        return question_answer; // ends method, jumps back to where code was called\n",
    "    }"
   ]
  },
  {
   "cell_type": "markdown",
   "metadata": {},
   "source": [
    "#### Testing"
   ]
  },
  {
   "cell_type": "code",
   "execution_count": 2,
   "metadata": {},
   "outputs": [
    {
     "name": "stdout",
     "output_type": "stream",
     "text": [
      "hey\n"
     ]
    },
    {
     "name": "stdin",
     "output_type": "stream",
     "text": [
      " g\n"
     ]
    },
    {
     "data": {
      "text/plain": [
       "g"
      ]
     },
     "execution_count": 2,
     "metadata": {},
     "output_type": "execute_result"
    }
   ],
   "source": [
    "question(\"hey\");"
   ]
  },
  {
   "cell_type": "markdown",
   "metadata": {},
   "source": [
    "### Method 2 name - number\n",
    "\n",
    "#### What it does\n",
    "Converts the user's input to an integer\n",
    "\n",
    "#### Implementation (how it works)\n",
    "The users answer is passed as an argument which is evaluated and stored locally in the variable amount. This is passed to the question method which evaluates it, and the result is stored in the number_amount variable. This string is then converted into an integer using the built in Integer.parseInt method."
   ]
  },
  {
   "cell_type": "code",
   "execution_count": 3,
   "metadata": {},
   "outputs": [],
   "source": [
    "    public static int number(String amount) //method called number. Variable of type String declared in header\n",
    "    {\n",
    "        String number_amount = question(amount); // argument is passed to method question. This is evaluated and later turned into an integer\n",
    "        return Integer.parseInt(number_amount); //changes what the user typed in into an integer using this built in method\n",
    "    }"
   ]
  },
  {
   "cell_type": "markdown",
   "metadata": {},
   "source": [
    "#### Testing"
   ]
  },
  {
   "cell_type": "code",
   "execution_count": 4,
   "metadata": {},
   "outputs": [
    {
     "name": "stdout",
     "output_type": "stream",
     "text": [
      "5\n"
     ]
    },
    {
     "name": "stdin",
     "output_type": "stream",
     "text": [
      " 5\n"
     ]
    },
    {
     "data": {
      "text/plain": [
       "5"
      ]
     },
     "execution_count": 4,
     "metadata": {},
     "output_type": "execute_result"
    }
   ],
   "source": [
    "number(\"5\");"
   ]
  },
  {
   "cell_type": "markdown",
   "metadata": {},
   "source": [
    "### Method 3 name - createGame\n",
    "\n",
    "#### What it does\n",
    "Create a new variable called fun of type game\n",
    "\n",
    "#### Implementation (how it works)\n",
    "The values given by the user are passed as an argument and are stored locally in name1 and age1. We then create a variable called fun which using dot notation, sets the fields in the record to the values given by the user. Method is then ended and jumps back to where code was called"
   ]
  },
  {
   "cell_type": "code",
   "execution_count": 4,
   "metadata": {},
   "outputs": [],
   "source": [
    "    public static game createGame(String name1, int age1) // the name inputted by the user and the age are passed as an argument to this method\n",
    "    {                                      \n",
    "        game fun = new game(); // we create a variable called fun. \n",
    "        fun.name = name1; // using dot notation, it directly sets the field in the record to the value stored in name1\n",
    "        fun.age = age1; //same as above but now sets it to the value stored in age1;\n",
    "        return fun; // ends method, jumps back to where code was called\n",
    "    }"
   ]
  },
  {
   "cell_type": "markdown",
   "metadata": {},
   "source": [
    "#### Testing"
   ]
  },
  {
   "cell_type": "code",
   "execution_count": 5,
   "metadata": {},
   "outputs": [
    {
     "data": {
      "text/plain": [
       "REPL.$JShell$13$game@71394285"
      ]
     },
     "execution_count": 5,
     "metadata": {},
     "output_type": "execute_result"
    }
   ],
   "source": [
    "createGame(\"Hey\", 8)"
   ]
  },
  {
   "cell_type": "markdown",
   "metadata": {},
   "source": [
    "### -- Method 4 name - getage\n",
    "\n",
    "#### What it does\n",
    "Obtains the data stored in the age field\n",
    "\n",
    "#### Implementation (how it works)\n",
    "This method is given a game record as an argument, which it stores in its local variable user and then obtains, using the dot notation, the value in the age field."
   ]
  },
  {
   "cell_type": "code",
   "execution_count": null,
   "metadata": {},
   "outputs": [],
   "source": [
    "    public static int getage(game user) //this method pulls out the age. It is given the user age as an argument\n",
    "    { \n",
    "        return user.age;// ends method, jumps back to where code was called\n",
    "    }"
   ]
  },
  {
   "cell_type": "markdown",
   "metadata": {},
   "source": [
    "### -- Method 5 name - getname\n",
    "\n",
    "#### What it does\n",
    "Obtains the data stored in the name field\n",
    "\n",
    "#### Implementation (how it works)\n",
    "This method is given a game record as an argument, which it stores in its local variable real and then obtains, using the dot notation, the value in the name field."
   ]
  },
  {
   "cell_type": "code",
   "execution_count": null,
   "metadata": {},
   "outputs": [],
   "source": [
    "    public static String getname(game real) // same as above\n",
    "    { \n",
    "        return real.name;// ends method, jumps back to where code was called\n",
    "    }"
   ]
  },
  {
   "cell_type": "markdown",
   "metadata": {},
   "source": [
    "### -- Method 6 name - potion_check\n",
    "\n",
    "#### What it does\n",
    "Compares number of potions the user has left to 2 values. If either comparison evaluates to true, then the game ends\n",
    "\n",
    "#### Implementation (how it works)\n",
    "This method takes an argument which is evaluated to a value. The if statement has a test. IF this test evaluates to true, then the program will end using the system.exit(0) method. If the test evaluates to false, then the program will continue"
   ]
  },
  {
   "cell_type": "code",
   "execution_count": 8,
   "metadata": {},
   "outputs": [],
   "source": [
    "    public static int potion_check(int potion_checks) //takes the number of potions left and stores it in a local variable\n",
    "    {\n",
    "        if (potion_checks==-1 || potion_checks==-2) //test. If either one evaluates to true, the first branch is executed\n",
    "        {\n",
    "            System.out.println();\n",
    "            System.out.println(\"Sorry, you ran out of potions. The game has ENDED.\"); //ends messsage\n",
    "            System.exit(0); //ends the program\n",
    "        }\n",
    "        else // if the test is false, this branch is executed\n",
    "        {\n",
    "            System.out.println();\n",
    "        }\n",
    "        return potion_checks;// ends method, jumps back to where code was called\n",
    "    }"
   ]
  },
  {
   "cell_type": "markdown",
   "metadata": {},
   "source": [
    "### Testing"
   ]
  },
  {
   "cell_type": "code",
   "execution_count": 9,
   "metadata": {},
   "outputs": [
    {
     "name": "stdout",
     "output_type": "stream",
     "text": [
      "\n"
     ]
    },
    {
     "data": {
      "text/plain": [
       "5"
      ]
     },
     "execution_count": 9,
     "metadata": {},
     "output_type": "execute_result"
    }
   ],
   "source": [
    "potion_check(5);"
   ]
  },
  {
   "cell_type": "markdown",
   "metadata": {},
   "source": [
    "### -- Method 7 name - encounter1\n",
    "\n",
    "#### What it does\n",
    "Asks user a question based on the animal's injury. Depending on their answer, different instructions are executed\n",
    "\n",
    "#### Implementation (how it works)\n",
    "In this method, the user will encounter their first animal. The animal is stored as the first element in an array of size 5. The user is asked whether they think the injury is minor or major and depending on their answer a different branch of the if-then-else staircase is run. For each branch the number of potions taken away varies as does the number of plants they obtain. They are then told how many they have left of each, and if any of these values are below 0, then the game ends."
   ]
  },
  {
   "cell_type": "code",
   "execution_count": 67,
   "metadata": {},
   "outputs": [],
   "source": [
    "public static int encounter1(int potion_start) //method created and variable of type int declared in header\n",
    "    {\n",
    "        int plants1 = 0; //variable declared and initialised\n",
    "        final int number_animals = 5; //final int which holds the size of the array\n",
    "\n",
    "        String[] animal_names = new String[number_animals]; // new array declared. Will be able to hold 5 elements\n",
    "        animal_names[0] = \"deer\"; //first element in array is the string deer\n",
    "\n",
    "        System.out.println(\"Oh no! There is an injured \" + animal_names[0] + \" behind the Gates of Justice.\");\n",
    "        System.out.println(\"It has lost a leg!\");\n",
    "        System.out.println(\"(If major, 2 potions are used. If minor, 1 potion is used)\"); //just info\n",
    "        System.out.println();\n",
    "        String save1 = question(\"Decide whether the deer's injury is major or minor\"); //asks user\n",
    "\n",
    "        if (save1.equals(\"major\"))//answer typed by user is major, this branch is run\n",
    "        {\n",
    "            System.out.println();\n",
    "            System.out.println(\"Well done. You assessed the situation correctly. 2 potion will be used up\");\n",
    "            potion_start = potion_start-2; //number of potions given by user -2\n",
    "            potion_check(potion_start); //checks number of potions still positive\n",
    "            System.out.println(\"There also seem to be some more plants next to where the deer lays. These will help you heal bigger animals in the future\");\n",
    "            plants1 = 3; //variable plants given new value\n",
    "        }\n",
    "        else if (save1.equals(\"minor\")) //answer given by user is minor, this branch is run\n",
    "        {\n",
    "            System.out.println();\n",
    "            System.out.println(\"Well done. You assessed the situation correctly. 1 potion will be used up\");\n",
    "            potion_start = potion_start-1; //1 is removed from number\n",
    "            potion_check(potion_start); //checks number of potions is not negative\n",
    "            System.out.println(\"There also seem to be some more plants next to where the deer lays. These will help you heal bigger animals in the future\");\n",
    "            plants1 = 3; //variable plants given a new value\n",
    "        }\n",
    "        else\n",
    "        {\n",
    "            System.out.println(\"You have failed to assess the situation correctly. The animal died and you lost a potion\");\n",
    "            potion_start = potion_start-1; //-1 from value given by user\n",
    "            potion_check(potion_start); // checks if potions not negative\n",
    "            plants1 = 2; // new value\n",
    "        }\n",
    "\n",
    "        System.out.println();\n",
    "        System.out.println(\"Potions left: \" + potion_start); //prints out how many potions left\n",
    "        System.out.println(\"You have also collected \" + plants1 + \" plants. Remember, you can use these to heal bigger animals\");\n",
    "\n",
    "        CPR(potion_start, animal_names, plants1); //passes values to next method\n",
    "\n",
    "        return potion_start; // ends method, jumps back to where code was called\n",
    "    }"
   ]
  },
  {
   "cell_type": "markdown",
   "metadata": {},
   "source": [
    "### Testing"
   ]
  },
  {
   "cell_type": "code",
   "execution_count": 68,
   "metadata": {},
   "outputs": [
    {
     "name": "stdout",
     "output_type": "stream",
     "text": [
      "Oh no! There is an injured deer behind the Gates of Justice.\n",
      "It has lost a leg!\n",
      "(If major, 2 potions are used. If minor, 1 potion is used)\n",
      "\n",
      "Decide whether the deer's injury is major or minor\n"
     ]
    },
    {
     "name": "stdin",
     "output_type": "stream",
     "text": [
      " major\n"
     ]
    },
    {
     "name": "stdout",
     "output_type": "stream",
     "text": [
      "\n",
      "Well done. You assessed the situation correctly. 2 potion will be used up\n",
      "\n",
      "There also seem to be some more plants next to where the deer lays. These will help you heal bigger animals in the future\n",
      "\n",
      "Potions left: 8\n",
      "You have also collected 3 plants. Remember, you can use these to heal bigger animals\n"
     ]
    },
    {
     "data": {
      "text/plain": [
       "8"
      ]
     },
     "execution_count": 68,
     "metadata": {},
     "output_type": "execute_result"
    }
   ],
   "source": [
    "encounter1(10);"
   ]
  },
  {
   "cell_type": "markdown",
   "metadata": {},
   "source": [
    "### -- Method 8 name - CPR\n",
    "\n",
    "#### What it does\n",
    "Second element of the the array is filled and the user is asked to help an animal by typing in 'press'. Depending on if they do this, different instructions get carried out.\n",
    "\n",
    "#### Implementation (how it works)\n",
    "The user is asked what their favorite animal is and their answer is stored as the second element of the array. We then have a for loop that will loop once. The user is asked to type in 'press' twice and depending on whether they type this or type something else, a different branch of the if statement is run. They are then told that there is a plant which is automatically obtained by the user. At the end the user is informed of how many potions and plants they have left. These values are then passed as arguments to the next method."
   ]
  },
  {
   "cell_type": "code",
   "execution_count": 64,
   "metadata": {},
   "outputs": [],
   "source": [
    "    public static int CPR(int potion_num1, String[] animal_names2, int plants2) // local variables declared in header\n",
    "    {\n",
    "        int potion_num = potion_num1; // new variable will hold number of potions left\n",
    "        System.out.println();\n",
    "\n",
    "        animal_names2[1] = question(\"What is your favorite animal?\"); //user's answer is stored as second element in array\n",
    "\n",
    "        System.out.println();\n",
    "        System.out.println(\"You have already encountered your first animal. Be ready to encounter more as you travel through the forest\");\n",
    "        System.out.println();\n",
    "        System.out.println(\"Oh no! there is a \" + animal_names2[1] + \" that has been harmed. This is a beyond major injury\");\n",
    "\n",
    "        for (int i=0; i<1; i++) //for loop. WIll continue 2 times\n",
    "        {\n",
    "            String press = question(\"Give the bird CPR by pressing on its chest! (enter 'press')\"); //tells user to type press\n",
    "            potion_num = potion_num-1; //number of potions decreased\n",
    "            potion_check(potion_num); //checks number of potions not negative\n",
    "\n",
    "            if (press.equals(\"press\") || press.equals(\"Press\")) //compares values. if test is true, this brancg is run\n",
    "            {\n",
    "                press = question(\"press again!\");\n",
    "                potion_num = potion_num - 1; //value of potions decreased\n",
    "                potion_check(potion_num);\n",
    "            }\n",
    "            else //this branch is run\n",
    "            {\n",
    "                System.out.println(\"The bird died, and you lose 2 potions\");\n",
    "                potion_num = potion_num-1;\n",
    "            }\n",
    "        }\n",
    "        System.out.println();\n",
    "        System.out.println(\"There also seem to be some plants behind the tree trunk to your left. Grab them.\");\n",
    "\n",
    "        System.out.println(\"*Grabbing noises*\");\n",
    "        plants2 = plants2 + 1; //plants incremented by 1\n",
    "\n",
    "        System.out.println();\n",
    "        System.out.println(\"Potions left: \" + potion_num); //prints out number of potions left\n",
    "        System.out.println(\"Number of plants collected: \" + plants2);//as above but plants\n",
    "        riddle(potion_num, animal_names2, plants2); //passes values to next method\n",
    "\n",
    "        return potion_num;// ends method, jumps back to where code was called\n",
    "    }"
   ]
  },
  {
   "cell_type": "markdown",
   "metadata": {},
   "source": [
    "### Testing"
   ]
  },
  {
   "cell_type": "code",
   "execution_count": 65,
   "metadata": {},
   "outputs": [
    {
     "name": "stdout",
     "output_type": "stream",
     "text": [
      "\n",
      "What is your favorite animal?\n"
     ]
    },
    {
     "name": "stdin",
     "output_type": "stream",
     "text": [
      " lion\n"
     ]
    },
    {
     "name": "stdout",
     "output_type": "stream",
     "text": [
      "\n",
      "You have already encountered your first animal. Be ready to encounter more as you travel through the forest\n",
      "\n",
      "Oh no! there is a lion that has been harmed. This is a beyond major injury\n",
      "Give the bird CPR by pressing on its chest! (enter 'press')\n"
     ]
    },
    {
     "name": "stdin",
     "output_type": "stream",
     "text": [
      " press\n"
     ]
    },
    {
     "name": "stdout",
     "output_type": "stream",
     "text": [
      "\n",
      "press again!\n"
     ]
    },
    {
     "name": "stdin",
     "output_type": "stream",
     "text": [
      " press\n"
     ]
    },
    {
     "name": "stdout",
     "output_type": "stream",
     "text": [
      "\n",
      "\n",
      "There also seem to be some plants behind the tree trunk to your left. Grab them.\n",
      "*Grabbing noises*\n",
      "\n",
      "Potions left: 8\n",
      "Number of plants collected: 11\n"
     ]
    },
    {
     "data": {
      "text/plain": [
       "8"
      ]
     },
     "execution_count": 65,
     "metadata": {},
     "output_type": "execute_result"
    }
   ],
   "source": [
    "String[] tests = new String[5];\n",
    "CPR(10, tests, 10);"
   ]
  },
  {
   "cell_type": "markdown",
   "metadata": {},
   "source": [
    "### -- Method 9 name - riddle\n",
    "\n",
    "#### What it does\n",
    "The user is asked riddles. Their answer are later checked. Depending on their answers, they will lose potions or gain a plant.\n",
    "\n",
    "#### Implementation (how it works)\n",
    "The user is told about a tree that will ask them 2 riddles. I have used a while loop that will continue looping as long as the sentinel value is not typed in by the user which is 'stop' in this case. Within the while loop is a for loop which will repeat 2 times. The user is asked how hard they would like the riddle to be and their answer is stored in a variable. Depending on their answer, a different branch of the if-then-else staircase is executed. Their answers to the riddles are stored inside variables. Each answer is stored in a different variable. After answering 2 riddles they are asked if they would like to continue to the next part of the game or answer 2 riddles again. If they would like to continue with the rest of the game, then they type anything but the sentinel value. Their answers to the riddles are passed to the next method where they will be checked."
   ]
  },
  {
   "cell_type": "code",
   "execution_count": 60,
   "metadata": {},
   "outputs": [],
   "source": [
    "public static String riddle(int number_potions, String[] animal_names3, int plants3) //declares local variables in header\n",
    "    {    \n",
    "        System.out.println();\n",
    "        System.out.println(\"If you walk up the hill of death you will come across the Tree of Life.\");\n",
    "        System.out.println(\"The Tree of Life used to be a man who had an unlimited amount of knowledge. He knew everything.\");\n",
    "        System.out.println(\"Knowing too much led to his downfall. He tried to claim being God and so he was turned into a tree\");\n",
    "        System.out.println(\"When you approach the tree look down. Do not worry about the rest. Go now.\");\n",
    "\n",
    "        System.out.println(\"You will have to answer 2 riddles. If both of your answers are wrong you lose 2 potions. Only 1 answer needs to be correct to enter the next part of the forest.\");\n",
    "\n",
    "        String play = \"\";\n",
    "        String difficulty = \"\";\n",
    "\n",
    "        String answer1 = \"\";       //5 variables of type String declared, each will hold different values\n",
    "        String answer2 = \"\";\n",
    "        String answer3 = \"\";\n",
    "\n",
    "        while(!play.equals(\"stop\")) //loop will continue as long as sentinel value not entered\n",
    "        {\n",
    "            System.out.println();\n",
    "            System.out.println(\"Focus. Think about the question and fill in your answer\");\n",
    "\n",
    "            for(int i=0; i<=1; i++) // for loop will continue 2 times\n",
    "            {\n",
    "                System.out.println();\n",
    "                difficulty = question(\"How hard would you like the riddle to be? (Hard, Medium, Easy)\"); //user is asked\n",
    "\n",
    "                if(difficulty.equals(\"Hard\")) //this branch is run if answer is hard\n",
    "                {\n",
    "                    System.out.println();\n",
    "                    answer1 = question(\"Until I am measured, I am not known. Yet how you miss me, When I have flown. What am I?\");\n",
    "                }\n",
    "                else if(difficulty.equals(\"Medium\"))//this branch is run if answer is medium\n",
    "                {\n",
    "                    System.out.println();\n",
    "                    answer2 = question(\"What can fill a room but takes up no space?\");//question\n",
    "                }\n",
    "                else if(difficulty.equals(\"Easy\"))//this branch is run if answer is easy\n",
    "                {\n",
    "                    System.out.println();\n",
    "                    answer3 = question(\"The more of this there is, the less you see. What is it?\");//question\n",
    "                }\n",
    "                else\n",
    "                {\n",
    "                    System.out.println();\n",
    "                    System.out.println(\"You failed to give a difficulty\");\n",
    "                }\n",
    "            }\n",
    "            System.out.println();\n",
    "            play = question(\"You want to answer 2 riddles again? (enter 'stop' if not)\"); //if user types stop, loop will end\n",
    "        }\n",
    "        question_riddle(answer1, answer2, answer3, number_potions, animal_names3, plants3); //arguments passed\n",
    "        return difficulty; // ends method, jumps back to where code was called\n",
    "    }"
   ]
  },
  {
   "cell_type": "markdown",
   "metadata": {},
   "source": [
    "### Testing"
   ]
  },
  {
   "cell_type": "code",
   "execution_count": 61,
   "metadata": {},
   "outputs": [
    {
     "name": "stdout",
     "output_type": "stream",
     "text": [
      "\n",
      "If you walk up the hill of death you will come across the Tree of Life.\n",
      "The Tree of Life used to be a man who had an unlimited amount of knowledge. He knew everything.\n",
      "Knowing too much led to his downfall. He tried to claim being God and so he was turned into a tree\n",
      "When you approach the tree look down. Do not worry about the rest. Go now.\n",
      "You will have to answer 2 riddles. If both of your answers are wrong you lose 2 potions. Only 1 answer needs to be correct to enter the next part of the forest.\n",
      "\n",
      "Focus. Think about the question and fill in your answer\n",
      "\n",
      "How hard would you like the riddle to be? (Hard, Medium, Easy)\n"
     ]
    },
    {
     "name": "stdin",
     "output_type": "stream",
     "text": [
      " Hard\n"
     ]
    },
    {
     "name": "stdout",
     "output_type": "stream",
     "text": [
      "\n",
      "Until I am measured, I am not known. Yet how you miss me, When I have flown. What am I?\n"
     ]
    },
    {
     "name": "stdin",
     "output_type": "stream",
     "text": [
      " Time\n"
     ]
    },
    {
     "name": "stdout",
     "output_type": "stream",
     "text": [
      "\n",
      "How hard would you like the riddle to be? (Hard, Medium, Easy)\n"
     ]
    },
    {
     "name": "stdin",
     "output_type": "stream",
     "text": [
      " Medium\n"
     ]
    },
    {
     "name": "stdout",
     "output_type": "stream",
     "text": [
      "\n",
      "What can fill a room but takes up no space?\n"
     ]
    },
    {
     "name": "stdin",
     "output_type": "stream",
     "text": [
      " Darkness\n"
     ]
    },
    {
     "name": "stdout",
     "output_type": "stream",
     "text": [
      "\n",
      "You want to answer 2 riddles again? (enter 'stop' if not)\n"
     ]
    },
    {
     "name": "stdin",
     "output_type": "stream",
     "text": [
      " stop\n"
     ]
    },
    {
     "data": {
      "text/plain": [
       "Medium"
      ]
     },
     "execution_count": 61,
     "metadata": {},
     "output_type": "execute_result"
    }
   ],
   "source": [
    "String[] tests = new String[5];\n",
    "riddle(10, tests, 10);"
   ]
  },
  {
   "cell_type": "markdown",
   "metadata": {},
   "source": [
    "### -- Method 10 name - question_riddle\n",
    "\n",
    "#### What it does\n",
    "The user's answers are checked and different instructions are carried out, depending on their answers\n",
    "\n",
    "#### Implementation (how it works)\n",
    "The user's answers are compared to strings in the if-then-else staircase. If any of the comparisons evaluate to true, then those branches are run and the instructions inside are carried out. If none of the criteria are met, then the catch-all else is carried out. In each case they could lose or gain plants. We also have a counter variable that is incremented when at least 1 of the user's answers is correct. "
   ]
  },
  {
   "cell_type": "code",
   "execution_count": 55,
   "metadata": {},
   "outputs": [],
   "source": [
    "    public static int question_riddle(String riddle_answer1, String riddle_answer2, String riddle_answer3, int potion_num, String[] animal_names4, int plants4)\n",
    "    {\n",
    "        int count = 0; //counter variable declared\n",
    "\n",
    "        if (riddle_answer1.equals(\"Time\") || riddle_answer2.equals(\"Darkness\") || riddle_answer3.equals(\"Light\")) \n",
    "        { //if any of the above answer, then this branch is run\n",
    "            count = count + 1; //counter incremented by 1\n",
    "            plants4 = plants4 + 1; //plants incremented by 1\n",
    "        }\n",
    "        else if (riddle_answer1.equals(\"time\") || riddle_answer2.equals(\"darkness\") || riddle_answer3.equals(\"light\"))\n",
    "        {\n",
    "            count = count + 1; //counter incremented by 1\n",
    "            plants4 = plants4 + 1;//plants incremented by 1\n",
    "        }\n",
    "        else //otherwise this is run\n",
    "        {\n",
    "            potion_num = potion_num-2; //potions decreased\n",
    "            potion_check(potion_num); //potion checked\n",
    "        }\n",
    "        riddle_forest(count, potion_num, animal_names4, plants4); //values are passed\n",
    "        return count;// ends method, jumps back to where code was called\n",
    "\n",
    "    }"
   ]
  },
  {
   "cell_type": "markdown",
   "metadata": {},
   "source": [
    "### Testing"
   ]
  },
  {
   "cell_type": "code",
   "execution_count": 56,
   "metadata": {},
   "outputs": [
    {
     "data": {
      "text/plain": [
       "1"
      ]
     },
     "execution_count": 56,
     "metadata": {},
     "output_type": "execute_result"
    }
   ],
   "source": [
    "String[] tests = new String[5];\n",
    "question_riddle(\"Time\", \"Darkness\", \"light\", 10, tests, 10);"
   ]
  },
  {
   "cell_type": "markdown",
   "metadata": {},
   "source": [
    "### -- Method 11 name - riddle_forest\n",
    "\n",
    "#### What it does\n",
    "Prints out how many potions the user has left based on their answers to the riddles. The user also has an opportunity to gain an extra plant.\n",
    "\n",
    "#### Implementation (how it works)\n",
    "The counter variable from the last method is tested and if the test evaluates to true, it means the user did not get any riddles right. They will have lost 2 potions in the previous method and the number of potions is printed out. The user is then given an option to grab a plant and depending on whether they typed 'grab', they will either gain a plant or not. This is tested by the if statement whose test evaluates to true when the user has typed it. They will then gain a plant if they did, otherwise hey won't."
   ]
  },
  {
   "cell_type": "code",
   "execution_count": 52,
   "metadata": {},
   "outputs": [],
   "source": [
    "    public static int riddle_forest(int counter, int potionNumber, String[] animal_names5, int plants5)\n",
    "    {    \n",
    "        if (counter==0) // test\n",
    "        {\n",
    "            System.out.println(\"You did not got any right. You may enter the forest. You will however, lose 2 potions\");\n",
    "            System.out.println();\n",
    "            System.out.println(\"Potions left:\" + potionNumber);  //number of potions printed out\n",
    "        }\n",
    "        else\n",
    "        {\n",
    "            System.out.println();\n",
    "            System.out.println(\"You may enter the 2nd part of the forest without losing potions\");\n",
    "        }\n",
    "\n",
    "        System.out.println();\n",
    "        System.out.println(\"Oh wow! There seems to be a plant next to the Tree of Life\");\n",
    "        String grab = question(\"Grab the plant (type 'grab')\"); //if user types grab, they get another plant\n",
    "\n",
    "        if (grab.equals(\"grab\")) //if true, first branch is run\n",
    "        {\n",
    "            System.out.println(\"You gained 1 plant!\");\n",
    "            plants5 = plants5 + 1; //plant incremented by 1\n",
    "        }\n",
    "        else\n",
    "        {\n",
    "            System.out.println(\"You entered the 2nd part of the forest without grabbing the plant.\");\n",
    "        }\n",
    "\n",
    "        System.out.println(\"Number of plants: \" + plants5); //number of plants printed out\n",
    "\n",
    "        third_encounter(potionNumber, animal_names5, plants5); //values passed\n",
    "        return counter;// ends method, jumps back to where code was called\n",
    "    }"
   ]
  },
  {
   "cell_type": "markdown",
   "metadata": {},
   "source": [
    "### Testing"
   ]
  },
  {
   "cell_type": "code",
   "execution_count": 54,
   "metadata": {},
   "outputs": [
    {
     "name": "stdout",
     "output_type": "stream",
     "text": [
      "\n",
      "You may enter the 2nd part of the forest without losing potions\n",
      "\n",
      "Oh wow! There seems to be a plant next to the Tree of Life\n",
      "Grab the plant (type 'grab')\n"
     ]
    },
    {
     "name": "stdin",
     "output_type": "stream",
     "text": [
      " grab\n"
     ]
    },
    {
     "name": "stdout",
     "output_type": "stream",
     "text": [
      "You gained 1 plant!\n",
      "Number of plants: 11\n"
     ]
    },
    {
     "data": {
      "text/plain": [
       "1"
      ]
     },
     "execution_count": 54,
     "metadata": {},
     "output_type": "execute_result"
    }
   ],
   "source": [
    "String[] tests = new String[5];\n",
    "riddle_forest(1, 10, tests, 10);"
   ]
  },
  {
   "cell_type": "markdown",
   "metadata": {},
   "source": [
    "### -- Method 12 name - third_encounter\n",
    "\n",
    "#### What it does\n",
    "Third value of the array is filled. User is asked about the animal's injury and depending on their answer, different instructions are carried out\n",
    "\n",
    "#### Implementation (how it works)\n",
    "The 3rd element of the array is set to 'elephant'. The user is asked a question about the animal's injury and their answer is stored inside the variable of type string called injury. Their answered is tested in an if-then-else staircase and depending on their answer, a different block of code is carried out. Each time the number of potions or plants is decreased. These values are sent as arguments to different methods to test whether they are negative or equal to 0. If any of these cases arise, the program will end. The amount of potions and plants is then printed out"
   ]
  },
  {
   "cell_type": "code",
   "execution_count": 48,
   "metadata": {},
   "outputs": [],
   "source": [
    "    public static int third_encounter(int potion_number5, String[] animal_names6, int plants6)\n",
    "    {\n",
    "        animal_names6[2] = \"elephant\"; // third element stored inside array will be elephant\n",
    "\n",
    "        System.out.println();\n",
    "        System.out.println(\"You have entered the 2nd part of the forest. You so far have encountered a \" + animal_names6[0] + \" and a \" + animal_names6[1]);\n",
    "        System.out.println(\"You will now encounter animals that are deadly\"); //just some more info\n",
    "\n",
    "        System.out.println();\n",
    "        System.out.println(\"*rumbling noises*\");\n",
    "        System.out.println(\"An \" + animal_names6[2] + \"! It looks like its leg is injured! It is asking for help! Make sure to heal it properly!\");\n",
    "        System.out.println(\"(Because you have been collecting plants, you will be able to heal bigger animals!)\");\n",
    "        System.out.println(\"(If you pick minor, 2 potions will be used. If you pick major 1 plant is used.\"); //info\n",
    "\n",
    "        String injury = question(\"Is the \" + animal_names6[2] + \"'s injury minor or major?\"); //user is asked how severe the injury is\n",
    "\n",
    "        if (injury.equals(\"minor\")) //if true, then this first branch is run\n",
    "        {\n",
    "            System.out.println();\n",
    "            System.out.println(\"Well done. You assessed the situation correctly. 2 potions will be used up.\");\n",
    "            plants6 = plants6; //number of plants stays the same\n",
    "            potion_number5 = potion_number5-2; // number of potions decreased\n",
    "            potion_check(potion_number5); //number of potions checked\n",
    "        }\n",
    "        else if (injury.equals(\"major\")) //if true, this branch is run\n",
    "        {\n",
    "            System.out.println();\n",
    "            System.out.println(\"Well done. You assessed the situation correctly. Only 1 plant will be used up!\");\n",
    "            plants6 = plants6-1; //number of plants decreased by 1\n",
    "            plant_check(plants6); //number of plants checked\n",
    "        } \n",
    "        else //if none true, this branch is run\n",
    "        {\n",
    "            System.out.println(\"You have failed to assess the situation correctly. The animal died and you lost a potion and a plant\");\n",
    "            potion_number5 = potion_number5-1; //number of potions minus1\n",
    "            plants6 = plants6-1; //number of plants decreased\n",
    "            potion_check(potion_number5); //number of potions checked\n",
    "        }\n",
    "        System.out.println();\n",
    "        System.out.println(\"Potions left: \" + potion_number5);\n",
    "        System.out.println(\"You have \" + plants6 + \" plants left\"); //number of plants left is printed out\n",
    "        fourth_encounter(potion_number5, animal_names6, plants6); //values passed to method\n",
    "        return potion_number5;// ends method, jumps back to where code was called\n",
    "    }"
   ]
  },
  {
   "cell_type": "markdown",
   "metadata": {},
   "source": [
    "### Testing"
   ]
  },
  {
   "cell_type": "code",
   "execution_count": 49,
   "metadata": {},
   "outputs": [
    {
     "name": "stdout",
     "output_type": "stream",
     "text": [
      "\n",
      "You have entered the 2nd part of the forest. You so far have encountered a null and a null\n",
      "You will now encounter animals that are deadly\n",
      "\n",
      "*rumbling noises*\n",
      "An elephant! It looks like its leg is injured! It is asking for help! Make sure to heal it properly!\n",
      "(Because you have been collecting plants, you will be able to heal bigger animals!)\n",
      "(If you pick minor, 2 potions will be used. If you pick major 1 plant is used.\n",
      "Is the elephant's injury minor or major?\n"
     ]
    },
    {
     "name": "stdin",
     "output_type": "stream",
     "text": [
      " minor\n"
     ]
    },
    {
     "name": "stdout",
     "output_type": "stream",
     "text": [
      "\n",
      "Well done. You assessed the situation correctly. 2 potions will be used up.\n",
      "\n",
      "\n",
      "Potions left: 8\n",
      "You have 10 plants left\n"
     ]
    },
    {
     "data": {
      "text/plain": [
       "8"
      ]
     },
     "execution_count": 49,
     "metadata": {},
     "output_type": "execute_result"
    }
   ],
   "source": [
    "String[] tests = new String[5];\n",
    "third_encounter(10, tests, 10);"
   ]
  },
  {
   "cell_type": "markdown",
   "metadata": {},
   "source": [
    "### -- Method 13 name - fourth_encounter\n",
    "\n",
    "#### What it does\n",
    "4th element of the array is filled. User is asked question and depending on their answer, different branches of the if statement are run.\n",
    "#### Implementation (how it works)\n",
    "The user is told what to do about the animal's injury and their answer is stored inside the variable of type string, dragon_help. This is compared to strings in an if statement and depending on the outcome of the tests, different instructions are carried out. Each time the number of potions or plants is decreased, their values are sent as arguments to different methods to test whether they are negative or equal to 0. If any of these cases arise, the program will end. The amount of potions and plants is then printed out"
   ]
  },
  {
   "cell_type": "code",
   "execution_count": 46,
   "metadata": {},
   "outputs": [],
   "source": [
    "    public static int fourth_encounter(int potion_number6, String[] animal_names7, int plants7)\n",
    "    {\n",
    "        animal_names7[3] = \"dragon\"; //fourth element inside array is dragon\n",
    "\n",
    "        System.out.println(\"There... behind that bridge!. A DRAGON. It seems like it is hurt. Try to aid it.\");\n",
    "        System.out.println(\"(You still have plants left and so you can use these to heal this monster)\");\n",
    "        System.out.println(\"You have been brave. You have shown heart and will now encounter one of the most feared animals in Devil Fruit forest\");\n",
    "        System.out.println(\"You will have to heal an injured \" + animal_names7[3]); \n",
    "        System.out.println(\"If you fail to heal the animal, you will lose 4 potions and 2 plants\");\n",
    "        System.out.println(); //info\n",
    "        String dragon_help = question(\"It has a cut under its right wing. Throw 1 potion at the injury by shouting 'throw', (type 'throw') and rub 4 plants on the injury\");\n",
    "\n",
    "        if (dragon_help.equals(\"throw\") || dragon_help.equals(\"Throw\")) //if either of the tests is true, first branch is run\n",
    "        {\n",
    "            System.out.println();\n",
    "            potion_number6 = potion_number6-1; //number of potions decreased\n",
    "            potion_check(potion_number6); //number of potions checked\n",
    "            System.out.println(\"Well done. You saved the dragon!\");\n",
    "            plants7 = plants7 - 4; //plants decreased\n",
    "            plant_check(plants7); //plants checked\n",
    "        }\n",
    "        else\n",
    "        {\n",
    "            System.out.println();\n",
    "            System.out.println(\"The dragon died. 3 potions will be used up\");\n",
    "            System.out.println(\"2 plants will also be used up\");\n",
    "            potion_number6 = potion_number6-4;//number of potions decreased by 4\n",
    "            plants7 = plants7 - 2; //number of plants decreased\n",
    "            potion_check(potion_number6); //number of potions checked\n",
    "        }\n",
    "        System.out.println();\n",
    "        System.out.println(\"Potions left: \" + potion_number6); //potions left printed out\n",
    "        System.out.println(\"Plants left: \" + plants7); //plants left printed out\n",
    "\n",
    "        last_encounter(potion_number6, animal_names7, plants7); //values passed to method\n",
    "        return potion_number6;// ends method, jumps back to where code was called\n",
    "    }"
   ]
  },
  {
   "cell_type": "markdown",
   "metadata": {},
   "source": [
    "### Testing"
   ]
  },
  {
   "cell_type": "code",
   "execution_count": 47,
   "metadata": {},
   "outputs": [
    {
     "name": "stdout",
     "output_type": "stream",
     "text": [
      "There... behind that bridge!. A DRAGON. It seems like it is hurt. Try to aid it.\n",
      "(You still have plants left and so you can use these to heal this monster)\n",
      "You have been brave. You have shown heart and will now encounter one of the most feared animals in Devil Fruit forest\n",
      "You will have to heal an injured dragon\n",
      "If you fail to heal the animal, you will lose 4 potions and 2 plants\n",
      "\n",
      "It has a cut under its right wing. Throw 1 potion at the injury by shouting 'throw', (type 'throw') and rub 4 plants on the injury\n"
     ]
    },
    {
     "name": "stdin",
     "output_type": "stream",
     "text": [
      " throw\n"
     ]
    },
    {
     "name": "stdout",
     "output_type": "stream",
     "text": [
      "\n",
      "\n",
      "Well done. You saved the dragon!\n",
      "\n",
      "\n",
      "Potions left: 9\n",
      "Plants left: 6\n"
     ]
    },
    {
     "data": {
      "text/plain": [
       "9"
      ]
     },
     "execution_count": 47,
     "metadata": {},
     "output_type": "execute_result"
    }
   ],
   "source": [
    "String[] tests = new String[5];\n",
    "fourth_encounter(10, tests, 10);"
   ]
  },
  {
   "cell_type": "markdown",
   "metadata": {},
   "source": [
    "### -- Method 14 name - plant_check\n",
    "\n",
    "#### What it does\n",
    "The number of plants is checked, and the program ends if it is negative\n",
    "\n",
    "#### Implementation (how it works)\n",
    "The number of plants the user has left is passed as an argument to this method. This is compared with values in an if statement and if the test evaluates to true, the program ends. Otherwise the program will continue where it left off."
   ]
  },
  {
   "cell_type": "code",
   "execution_count": 44,
   "metadata": {},
   "outputs": [],
   "source": [
    "    public static int plant_check(int plants)\n",
    "    {\n",
    "        if (plants==-1 || plants==-2 || plants==-3) //if any of these tests is true, this branch is run\n",
    "        {\n",
    "            System.out.println(\"You ran out of plants!\");\n",
    "            System.out.println(\"The game has ENDED\"); //ends message\n",
    "            System.exit(0); //ends program\n",
    "        }\n",
    "        else //otherwise this branch is run\n",
    "        {\n",
    "            System.out.println();\n",
    "        }\n",
    "        return plants;// ends method, jumps back to where code was called\n",
    "    }"
   ]
  },
  {
   "cell_type": "markdown",
   "metadata": {},
   "source": [
    "### Testing"
   ]
  },
  {
   "cell_type": "code",
   "execution_count": 45,
   "metadata": {},
   "outputs": [
    {
     "name": "stdout",
     "output_type": "stream",
     "text": [
      "\n"
     ]
    },
    {
     "data": {
      "text/plain": [
       "1"
      ]
     },
     "execution_count": 45,
     "metadata": {},
     "output_type": "execute_result"
    }
   ],
   "source": [
    "plant_check(1);"
   ]
  },
  {
   "cell_type": "markdown",
   "metadata": {},
   "source": [
    "### -- Method 15 name - last_encounter\n",
    "\n",
    "#### What it does\n",
    "The user is asked a question and their answered is stored as the final element of the array. If they give the wrong answer however, the program will end.\n",
    "\n",
    "#### Implementation (how it works)\n",
    "The user is asked a question and their answer is stored as the 5th and final element in the array. Their answer is compared to strings and when a test evaluates to true, then that branch of the if-statement is run. In this case, if the user types in 'spider' as their answer, then the number of potions they have is set to -1 and this is checked by the potion_check method. This will cause the program to end. If the user however answers 'scorpion' and they then correctly type in 'POWER', then their number of potions, plants and the array is passed onto the next method"
   ]
  },
  {
   "cell_type": "code",
   "execution_count": 42,
   "metadata": {},
   "outputs": [],
   "source": [
    "    public static int last_encounter(int potion_number7, String[] animal_names8, int plants8)\n",
    "    {\n",
    "        System.out.println();\n",
    "        System.out.println(\"This will be your last encounter with an animal. You have proven yourself to be a valiant warrior\");\n",
    "\n",
    "        System.out.println();\n",
    "        animal_names8[4] = question(\"You will now have heal one of these 2 animals. A spider or a scorpion. Pick one\");\n",
    "        //user should enter scorpion\n",
    "        System.out.println();\n",
    "\n",
    "        if (animal_names8[4].equals(\"scorpion\") || animal_names8[4].equals(\"Scorpion\")) //if either of these is true, this branch is run\n",
    "        {\n",
    "            System.out.println();\n",
    "            System.out.println(\"You will have the help the scorpion that has been put in front you\");\n",
    "            System.out.println(\"Re-attach its leg and pour a potion on it. You will lose 1 potion\");\n",
    "            String help = question(\"Shoutout the word 'POWER' to heal this scorpion and snap your finger. (Type 'POWER')\");\n",
    "            //user is told to type the word power to heal the scorpion\n",
    "\n",
    "            if (help.equals(\"POWER\")) //if true, this branch is run\n",
    "            { \n",
    "                System.out.println();\n",
    "                potion_number7 = potion_number7-1; //number of potions decreased by 1\n",
    "                potion_check(potion_number7); //number of potions is checked\n",
    "                end(potion_number7, animal_names8, plants8); //values passed to final method\n",
    "            }\n",
    "            else//if wrong, the game will end as this branch is run\n",
    "            {\n",
    "                System.out.println(\"You shouted out the wrong words. The darkness will overtake your soul and you shall die a painful death\");\n",
    "                potion_number7 = -1;//number of potions set to -1\n",
    "                potion_check(potion_number7); //number of potions is set to -1, and is then checked, meaning the game will end\n",
    "            }\n",
    "        }\n",
    "        else if(animal_names8[4].equals(\"Spider\") || animal_names8[4].equals(\"spider\")) //if either is true, this branch is run\n",
    "        {\n",
    "            System.out.println();\n",
    "            System.out.println(\"You will be covered by spiders. They will crawl out of your ears, eyes and mouth.\");\n",
    "            System.out.println(\"You have not listened well. You were informed by the Lords of Fire that you should never touch a spider!\");\n",
    "            System.out.println(\"All of your potions will be used up!\");\n",
    "            potion_number7 = -1; //number of potions set to -1\n",
    "            potion_check(potion_number7); //this is then checked and the game will end\n",
    "        }\n",
    "        else //if the user didn't type any of the animal names then this branch is run\n",
    "        {\n",
    "            System.out.println();\n",
    "            System.out.println(\"You failed to answer and will face death!\");\n",
    "            potion_number7 = -1; //number of potions is et to -1\n",
    "            potion_check(potion_number7); //number of potions checked and the game will end\n",
    "        }\n",
    "        return potion_number7;// ends method, jumps back to where code was called\n",
    "    }"
   ]
  },
  {
   "cell_type": "markdown",
   "metadata": {},
   "source": [
    "### Testing"
   ]
  },
  {
   "cell_type": "code",
   "execution_count": 43,
   "metadata": {},
   "outputs": [
    {
     "name": "stdout",
     "output_type": "stream",
     "text": [
      "\n",
      "This will be your last encounter with an animal. You have proven yourself to be a valiant warrior\n",
      "\n",
      "You will now have heal one of these 2 animals. A spider or a scorpion. Pick one\n"
     ]
    },
    {
     "name": "stdin",
     "output_type": "stream",
     "text": [
      " scorpion\n"
     ]
    },
    {
     "name": "stdout",
     "output_type": "stream",
     "text": [
      "\n",
      "\n",
      "You will have the help the scorpion that has been put in front you\n",
      "Re-attach its leg and pour a potion on it. You will lose 1 potion\n",
      "Shoutout the word 'POWER' to heal this scorpion and snap your finger. (Type 'POWER')\n"
     ]
    },
    {
     "name": "stdin",
     "output_type": "stream",
     "text": [
      " POWER\n"
     ]
    },
    {
     "name": "stdout",
     "output_type": "stream",
     "text": [
      "\n",
      "\n"
     ]
    },
    {
     "data": {
      "text/plain": [
       "3"
      ]
     },
     "execution_count": 43,
     "metadata": {},
     "output_type": "execute_result"
    }
   ],
   "source": [
    "String[] tests = new String[5];\n",
    "last_encounter(4, tests, 4);"
   ]
  },
  {
   "cell_type": "markdown",
   "metadata": {},
   "source": [
    "### -- Method 16 name - end\n",
    "\n",
    "#### What it does\n",
    "Prints out number of plants and potions user has left\n",
    "\n",
    "#### Implementation (how it works)\n",
    "The user is told how many plants and potions they have left. It then prints out the animals the user encountered in no particular order. A final message is then printed and the program ends."
   ]
  },
  {
   "cell_type": "code",
   "execution_count": 13,
   "metadata": {},
   "outputs": [],
   "source": [
    "    public static int end(int potion_number8, String[] animal_names9, int plants9)\n",
    "    {\n",
    "        System.out.println(\"Well done! You have encountered 5 animals! Hope you enjoyed the game!\"); //end message\n",
    "        \n",
    "        System.out.println();\n",
    "        System.out.println(\"Final number of plants: \" + plants9); //prints final number of plants\n",
    "        System.out.println(\"Final number of potions: \" + potion_number8); //prints final number of potions\n",
    "        \n",
    "        for (int i=0; i<5; i++) //for loop. Counter variable set to 0. Loops 5 times\n",
    "        {\n",
    "            System.out.println(\"Encounter \" + (i+1) + \": \" + animal_names9[i]); //will print out the animals the user encountered\n",
    "        }\n",
    "        \n",
    "        System.out.println(); \n",
    "        System.out.println(\"Thx for playing the game\"); //ends message\n",
    "        \n",
    "        return plants9;// ends method, jumps back to where code was called\n",
    "    }"
   ]
  },
  {
   "cell_type": "markdown",
   "metadata": {},
   "source": [
    "### Testing"
   ]
  },
  {
   "cell_type": "code",
   "execution_count": 21,
   "metadata": {},
   "outputs": [
    {
     "name": "stdout",
     "output_type": "stream",
     "text": [
      "Well done! You have encountered 5 animals! Hope you enjoyed the game!\n",
      "\n",
      "Final number of plants: 4\n",
      "Final number of potions: 4\n",
      "Encounter 1: M\n",
      "Encounter 2: T\n",
      "Encounter 3: W\n",
      "Encounter 4: T\n",
      "Encounter 5: F\n",
      "\n",
      "Thx for playing the game\n"
     ]
    },
    {
     "data": {
      "text/plain": [
       "4"
      ]
     },
     "execution_count": 21,
     "metadata": {},
     "output_type": "execute_result"
    }
   ],
   "source": [
    "String[] test = {\"M\", \"T\", \"W\", \"T\", \"F\", \"S\" , \"S\"};\n",
    "end(4, test, 4);"
   ]
  },
  {
   "cell_type": "markdown",
   "metadata": {},
   "source": [
    "### -- Method 17 name - start\n",
    "\n",
    "#### What it does\n",
    "Allows user to enter name and age and this will be printed out along some information.\n",
    "\n",
    "#### Implementation (how it works)\n",
    "In this method the user is asked for their name and their age. These values are passed to the createGame method. We have abstracted away the record. Information is then printed out and using the getname and getage methods, we pull out the information the user entered in. The number of potions is then passed as an argument and it is then passed to the next method."
   ]
  },
  {
   "cell_type": "code",
   "execution_count": 10,
   "metadata": {},
   "outputs": [],
   "source": [
    "    public static void start () // method called start\n",
    "    {\n",
    "        String namee = question(\"What is your name brave warrior?\"); //asks user what their name is\n",
    "        int agee = number(\"How old are you on this day of reckoning?\");// asks user their age\n",
    "        game information = createGame(namee,agee);\n",
    "        //we call the createGame method, but we are now hiding the fact that we are creating a new record\n",
    "        //The values given by the user are passed to the createGame method\n",
    "        \n",
    "        System.out.println();\n",
    "\n",
    "        System.out.println(\"Nice to meet you \" + getname(information) + \". Devil Fruit forest has been expecting you.\");\n",
    "        System.out.println(\"At the age of \" + getage(information) + \" you will be the youngest warrior to ever set foot in this doomed forest\");\n",
    "        System.out.println(\"The adventure will soon commence and your aim is to heal the injured animals. This can be done by using potions or plants that you may find on the way\");\n",
    "        System.out.println(\"Once you encounter 5 animals the game will end!\");\n",
    "        System.out.println(\"You will be given a number of potions before you enter. Plants can be collected and used to heal bigger animals\");\n",
    "        System.out.println(\"You should also remember to NEVER touch a spider. IF you do, you will DIE!\");\n",
    "\n",
    "        System.out.println();\n",
    "        int initial_potion = number(\"How many potions would you like to start off with? (10 is recommended)\"); //asks user how many potions they would like to start off with\n",
    "        System.out.println(\"The gates will open in 5..4..3..2..1\");\n",
    "        System.out.println(\"You may enter the forest. Beware of the dangers. Good luck \" + getname(information)); //uses getter method to pull the valur\n",
    "        System.out.println();\n",
    "\n",
    "        potion_check(initial_potion); //passes number of potions to method\n",
    "        encounter1(initial_potion); //passes number of potions to next method\n",
    "        return;\n",
    "    }"
   ]
  },
  {
   "cell_type": "markdown",
   "metadata": {},
   "source": [
    "### Testing"
   ]
  },
  {
   "cell_type": "code",
   "execution_count": 12,
   "metadata": {},
   "outputs": [
    {
     "name": "stdout",
     "output_type": "stream",
     "text": [
      "What is your name brave warrior?\n"
     ]
    },
    {
     "name": "stdin",
     "output_type": "stream",
     "text": [
      " Haydar\n"
     ]
    },
    {
     "name": "stdout",
     "output_type": "stream",
     "text": [
      "How old are you on this day of reckoning?\n"
     ]
    },
    {
     "name": "stdin",
     "output_type": "stream",
     "text": [
      " 18\n"
     ]
    },
    {
     "name": "stdout",
     "output_type": "stream",
     "text": [
      "\n",
      "Nice to meet you Haydar. Devil Fruit forest has been expecting you.\n",
      "At the age of 18 you will be the youngest warrior to ever set foot in this doomed forest\n",
      "The adventure will soon commence and your aim is to heal the injured animals. This can be done by using potions or plants that you may find on the way\n",
      "Once you encounter 5 animals the game will end!\n",
      "You will be given a number of potions before you enter. Plants can be collected and used to heal bigger animals\n",
      "You should also remember to NEVER touch a spider. IF you do, you will DIE!\n",
      "\n",
      "How many potions would you like to start off with? (10 is recommended)\n"
     ]
    },
    {
     "name": "stdin",
     "output_type": "stream",
     "text": [
      " 10\n"
     ]
    },
    {
     "name": "stdout",
     "output_type": "stream",
     "text": [
      "The gates will open in 5..4..3..2..1\n",
      "You may enter the forest. Beware of the dangers. Good luck Haydar\n",
      "\n",
      "\n",
      "Oh no! There is an injured deer behind the Gates of Justice.\n",
      "It has lost a leg!\n",
      "(If major, 2 potions are used. If minor, 1 potion is used)\n",
      "\n",
      "Decide whether the deer's injury is major or minor\n"
     ]
    },
    {
     "name": "stdin",
     "output_type": "stream",
     "text": [
      " major\n"
     ]
    },
    {
     "name": "stdout",
     "output_type": "stream",
     "text": [
      "\n",
      "Well done. You assessed the situation correctly. 2 potion will be used up\n",
      "\n",
      "There also seem to be some more plants next to where the deer lays. These will help you heal bigger animals in the future\n",
      "\n",
      "Potions left: 8\n",
      "You have also collected 3 plants. Remember, you can use these to heal bigger animals\n",
      "\n",
      "What is your favorite animal?\n"
     ]
    },
    {
     "name": "stdin",
     "output_type": "stream",
     "text": [
      " lion\n"
     ]
    },
    {
     "name": "stdout",
     "output_type": "stream",
     "text": [
      "\n",
      "You have already encountered your first animal. Be ready to encounter more as you travel through the forest\n",
      "\n",
      "Oh no! there is a lion that has been harmed. This is a beyond major injury\n",
      "Give the bird CPR by pressing on its chest! (enter 'press')\n"
     ]
    },
    {
     "name": "stdin",
     "output_type": "stream",
     "text": [
      " press\n"
     ]
    },
    {
     "name": "stdout",
     "output_type": "stream",
     "text": [
      "\n",
      "press again!\n"
     ]
    },
    {
     "name": "stdin",
     "output_type": "stream",
     "text": [
      " press\n"
     ]
    },
    {
     "name": "stdout",
     "output_type": "stream",
     "text": [
      "\n",
      "\n",
      "There also seem to be some plants behind the tree trunk to your left. Grab them.\n",
      "*Grabbing noises*\n",
      "\n",
      "Potions left: 6\n",
      "Number of plants collected: 4\n",
      "\n",
      "If you walk up the hill of death you will come across the Tree of Life.\n",
      "The Tree of Life used to be a man who had an unlimited amount of knowledge. He knew everything.\n",
      "Knowing too much led to his downfall. He tried to claim being God and so he was turned into a tree\n",
      "When you approach the tree look down. Do not worry about the rest. Go now.\n",
      "You will have to answer 2 riddles. If both of your answers are wrong you lose 2 potions. Only 1 answer needs to be correct to enter the next part of the forest.\n",
      "\n",
      "Focus. Think about the question and fill in your answer\n",
      "\n",
      "How hard would you like the riddle to be? (Hard, Medium, Easy)\n"
     ]
    },
    {
     "name": "stdin",
     "output_type": "stream",
     "text": [
      " Har\n"
     ]
    },
    {
     "name": "stdout",
     "output_type": "stream",
     "text": [
      "\n",
      "You failed to give a difficulty\n",
      "\n",
      "How hard would you like the riddle to be? (Hard, Medium, Easy)\n"
     ]
    },
    {
     "name": "stdin",
     "output_type": "stream",
     "text": [
      " Easy\n"
     ]
    },
    {
     "name": "stdout",
     "output_type": "stream",
     "text": [
      "\n",
      "The more of this there is, the less you see. What is it?\n"
     ]
    },
    {
     "name": "stdin",
     "output_type": "stream",
     "text": [
      " light\n"
     ]
    },
    {
     "name": "stdout",
     "output_type": "stream",
     "text": [
      "\n",
      "You want to answer 2 riddles again? (enter 'stop' if not)\n"
     ]
    },
    {
     "name": "stdin",
     "output_type": "stream",
     "text": [
      " stop\n"
     ]
    },
    {
     "name": "stdout",
     "output_type": "stream",
     "text": [
      "\n",
      "You may enter the 2nd part of the forest without losing potions\n",
      "\n",
      "Oh wow! There seems to be a plant next to the Tree of Life\n",
      "Grab the plant (type 'grab')\n"
     ]
    },
    {
     "name": "stdin",
     "output_type": "stream",
     "text": [
      " grab\n"
     ]
    },
    {
     "name": "stdout",
     "output_type": "stream",
     "text": [
      "You gained 1 plant!\n",
      "Number of plants: 6\n",
      "\n",
      "You have entered the 2nd part of the forest. You so far have encountered a deer and a lion\n",
      "You will now encounter animals that are deadly\n",
      "\n",
      "*rumbling noises*\n",
      "An elephant! It looks like its leg is injured! It is asking for help! Make sure to heal it properly!\n",
      "(Because you have been collecting plants, you will be able to heal bigger animals!)\n",
      "(If you pick minor, 2 potions will be used. If you pick major 1 plant is used.\n",
      "Is the elephant's injury minor or major?\n"
     ]
    },
    {
     "name": "stdin",
     "output_type": "stream",
     "text": [
      " major\n"
     ]
    },
    {
     "name": "stdout",
     "output_type": "stream",
     "text": [
      "\n",
      "Well done. You assessed the situation correctly. Only 1 plant will be used up!\n",
      "\n",
      "\n",
      "Potions left: 6\n",
      "You have 5 plants left\n",
      "There... behind that bridge!. A DRAGON. It seems like it is hurt. Try to aid it.\n",
      "(You still have plants left and so you can use these to heal this monster)\n",
      "You have been brave. You have shown heart and will now encounter one of the most feared animals in Devil Fruit forest\n",
      "You will have to heal an injured dragon\n",
      "If you fail to heal the animal, you will lose 4 potions and 2 plants\n",
      "\n",
      "It has a cut under its right wing. Throw 1 potion at the injury by shouting 'throw', (type 'throw') and rub 4 plants on the injury\n"
     ]
    },
    {
     "name": "stdin",
     "output_type": "stream",
     "text": [
      " throw\n"
     ]
    },
    {
     "name": "stdout",
     "output_type": "stream",
     "text": [
      "\n",
      "\n",
      "Well done. You saved the dragon!\n",
      "\n",
      "\n",
      "Potions left: 5\n",
      "Plants left: 1\n",
      "\n",
      "This will be your last encounter with an animal. You have proven yourself to be a valiant warrior\n",
      "\n",
      "You will now have heal one of these 2 animals. A spider or a scorpion. Pick one\n"
     ]
    },
    {
     "name": "stdin",
     "output_type": "stream",
     "text": [
      " scorpion\n"
     ]
    },
    {
     "name": "stdout",
     "output_type": "stream",
     "text": [
      "\n",
      "\n",
      "You will have the help the scorpion that has been put in front you\n",
      "Re-attach its leg and pour a potion on it. You will lose 1 potion\n",
      "Shoutout the word 'POWER' to heal this scorpion and snap your finger. (Type 'POWER')\n"
     ]
    },
    {
     "name": "stdin",
     "output_type": "stream",
     "text": [
      " POWER\n"
     ]
    },
    {
     "name": "stdout",
     "output_type": "stream",
     "text": [
      "\n",
      "\n",
      "Well done! You have encountered 5 animals! Hope you enjoyed the game!\n",
      "\n",
      "Final number of plants: 1\n",
      "Final number of potions: 4\n",
      "\n",
      "Encounter 1: deer\n",
      "Encounter 2: lion\n",
      "Encounter 3: elephant\n",
      "Encounter 4: dragon\n",
      "Encounter 5: scorpion\n",
      "\n",
      "Thx for playing the game\n"
     ]
    }
   ],
   "source": [
    "animal_game.start();"
   ]
  },
  {
   "cell_type": "markdown",
   "metadata": {},
   "source": [
    "## The complete program\n",
    "This version will only compile here. To run it copy it into a file called initials.java on your local computer and compile and run it there."
   ]
  },
  {
   "cell_type": "code",
   "execution_count": 7,
   "metadata": {},
   "outputs": [
    {
     "name": "stdout",
     "output_type": "stream",
     "text": [
      "What is your name brave warrior?\n"
     ]
    },
    {
     "name": "stdin",
     "output_type": "stream",
     "text": [
      " Haydar\n"
     ]
    },
    {
     "name": "stdout",
     "output_type": "stream",
     "text": [
      "How old are you on this day of reckoning?\n"
     ]
    },
    {
     "name": "stdin",
     "output_type": "stream",
     "text": [
      " 18\n"
     ]
    },
    {
     "name": "stdout",
     "output_type": "stream",
     "text": [
      "\n",
      "Nice to meet you Haydar. Devil Fruit forest has been expecting you.\n",
      "At the age of 18 you will be the youngest warrior to ever set foot in this doomed forest\n",
      "The adventure will soon commence and your aim is to heal the injured animals. This can be done by using potions or plants that you may find on the way\n",
      "Once you encounter 5 animals the game will end!\n",
      "You will be given a number of potions before you enter. Plants can be collected and used to heal bigger animals\n",
      "You should also remember to NEVER touch a spider. IF you do, you will DIE!\n",
      "\n",
      "How many potions would you like to start off with? (10 is recommended)\n"
     ]
    },
    {
     "name": "stdin",
     "output_type": "stream",
     "text": [
      " 10\n"
     ]
    },
    {
     "name": "stdout",
     "output_type": "stream",
     "text": [
      "The gates will open in 5..4..3..2..1\n",
      "You may enter the forest. Beware of the dangers. Good luck Haydar\n",
      "\n",
      "\n",
      "Oh no! There is an injured deer behind the Gates of Justice.\n",
      "It has lost a leg!\n",
      "(If major, 2 potions are used. If minor, 1 potion is used)\n",
      "\n",
      "Decide whether the deer's injury is major or minor\n"
     ]
    },
    {
     "name": "stdin",
     "output_type": "stream",
     "text": [
      " major\n"
     ]
    },
    {
     "name": "stdout",
     "output_type": "stream",
     "text": [
      "\n",
      "Well done. You assessed the situation correctly. 2 potion will be used up\n",
      "\n",
      "There also seem to be some more plants next to where the deer lays. These will help you heal bigger animals in the future\n",
      "\n",
      "Potions left: 8\n",
      "You have also collected 3 plants. Remember, you can use these to heal bigger animals\n",
      "\n",
      "What is your favorite animal?\n"
     ]
    },
    {
     "name": "stdin",
     "output_type": "stream",
     "text": [
      " lion\n"
     ]
    },
    {
     "name": "stdout",
     "output_type": "stream",
     "text": [
      "\n",
      "You have already encountered your first animal. Be ready to encounter more as you travel through the forest\n",
      "\n",
      "Oh no! there is a lion that has been harmed. This is a beyond major injury\n",
      "Give the bird CPR by pressing on its chest! (enter 'press')\n"
     ]
    },
    {
     "name": "stdin",
     "output_type": "stream",
     "text": [
      " press\n"
     ]
    },
    {
     "name": "stdout",
     "output_type": "stream",
     "text": [
      "\n",
      "press again!\n"
     ]
    },
    {
     "name": "stdin",
     "output_type": "stream",
     "text": [
      " press\n"
     ]
    },
    {
     "name": "stdout",
     "output_type": "stream",
     "text": [
      "\n",
      "\n",
      "There also seem to be some plants behind the tree trunk to your left. Grab them.\n",
      "*Grabbing noises*\n",
      "\n",
      "Potions left: 6\n",
      "Number of plants collected: 4\n",
      "\n",
      "If you walk up the hill of death you will come across the Tree of Life.\n",
      "The Tree of Life used to be a man who had an unlimited amount of knowledge. He knew everything.\n",
      "Knowing too much led to his downfall. He tried to claim being God and so he was turned into a tree\n",
      "When you approach the tree look down. Do not worry about the rest. Go now.\n",
      "You will have to answer 2 riddles. If both of your answers are wrong you lose 2 potions. Only 1 answer needs to be correct to enter the next part of the forest.\n",
      "\n",
      "Focus. Think about the question and fill in your answer\n",
      "\n",
      "How hard would you like the riddle to be? (Hard, Medium, Easy)\n"
     ]
    },
    {
     "name": "stdin",
     "output_type": "stream",
     "text": [
      " Hard\n"
     ]
    },
    {
     "name": "stdout",
     "output_type": "stream",
     "text": [
      "\n",
      "Until I am measured, I am not known. Yet how you miss me, When I have flown. What am I?\n"
     ]
    },
    {
     "name": "stdin",
     "output_type": "stream",
     "text": [
      " Time\n"
     ]
    },
    {
     "name": "stdout",
     "output_type": "stream",
     "text": [
      "\n",
      "How hard would you like the riddle to be? (Hard, Medium, Easy)\n"
     ]
    },
    {
     "name": "stdin",
     "output_type": "stream",
     "text": [
      " Easy\n"
     ]
    },
    {
     "name": "stdout",
     "output_type": "stream",
     "text": [
      "\n",
      "The more of this there is, the less you see. What is it?\n"
     ]
    },
    {
     "name": "stdin",
     "output_type": "stream",
     "text": [
      " light\n"
     ]
    },
    {
     "name": "stdout",
     "output_type": "stream",
     "text": [
      "\n",
      "You want to answer 2 riddles again? (enter 'stop' if not)\n"
     ]
    },
    {
     "name": "stdin",
     "output_type": "stream",
     "text": [
      " stop\n"
     ]
    },
    {
     "name": "stdout",
     "output_type": "stream",
     "text": [
      "\n",
      "You may enter the 2nd part of the forest without losing potions\n",
      "\n",
      "Oh wow! There seems to be a plant next to the Tree of Life\n",
      "Grab the plant (type 'grab')\n"
     ]
    },
    {
     "name": "stdin",
     "output_type": "stream",
     "text": [
      " grab\n"
     ]
    },
    {
     "name": "stdout",
     "output_type": "stream",
     "text": [
      "You gained 1 plant!\n",
      "Number of plants: 6\n",
      "\n",
      "You have entered the 2nd part of the forest. You so far have encountered a deer and a lion\n",
      "You will now encounter animals that are deadly\n",
      "\n",
      "*rumbling noises*\n",
      "An elephant! It looks like its leg is injured! It is asking for help! Make sure to heal it properly!\n",
      "(Because you have been collecting plants, you will be able to heal bigger animals!)\n",
      "(If you pick minor, 2 potions will be used. If you pick major 1 plant is used.\n",
      "Is the elephant's injury minor or major?\n"
     ]
    },
    {
     "name": "stdin",
     "output_type": "stream",
     "text": [
      " minor\n"
     ]
    },
    {
     "name": "stdout",
     "output_type": "stream",
     "text": [
      "\n",
      "Well done. You assessed the situation correctly. 2 potions will be used up.\n",
      "\n",
      "\n",
      "Potions left: 4\n",
      "You have 6 plants left\n",
      "There... behind that bridge!. A DRAGON. It seems like it is hurt. Try to aid it.\n",
      "(You still have plants left and so you can use these to heal this monster)\n",
      "You have been brave. You have shown heart and will now encounter one of the most feared animals in Devil Fruit forest\n",
      "You will have to heal an injured dragon\n",
      "If you fail to heal the animal, you will lose 4 potions and 2 plants\n",
      "\n",
      "It has a cut under its right wing. Throw 1 potion at the injury by shouting 'throw', (type 'throw') and rub 4 plants on the injury\n"
     ]
    },
    {
     "name": "stdin",
     "output_type": "stream",
     "text": [
      " throw\n"
     ]
    },
    {
     "name": "stdout",
     "output_type": "stream",
     "text": [
      "\n",
      "\n",
      "Well done. You saved the dragon!\n",
      "\n",
      "\n",
      "Potions left: 3\n",
      "Plants left: 2\n",
      "\n",
      "This will be your last encounter with an animal. You have proven yourself to be a valiant warrior\n",
      "\n",
      "You will now have heal one of these 2 animals. A spider or a scorpion. Pick one\n"
     ]
    },
    {
     "name": "stdin",
     "output_type": "stream",
     "text": [
      " scorpion\n"
     ]
    },
    {
     "name": "stdout",
     "output_type": "stream",
     "text": [
      "\n",
      "\n",
      "You will have the help the scorpion that has been put in front you\n",
      "Re-attach its leg and pour a potion on it. You will lose 1 potion\n",
      "Shoutout the word 'POWER' to heal this scorpion and snap your finger. (Type 'POWER')\n"
     ]
    },
    {
     "name": "stdin",
     "output_type": "stream",
     "text": [
      " POWER\n"
     ]
    },
    {
     "name": "stdout",
     "output_type": "stream",
     "text": [
      "\n",
      "\n",
      "Well done! You have encountered 5 animals! Hope you enjoyed the game!\n",
      "\n",
      "Final number of plants: 2\n",
      "Final number of potions: 2\n",
      "\n",
      "Encounter 1: deer\n",
      "Encounter 2: lion\n",
      "Encounter 3: elephant\n",
      "Encounter 4: dragon\n",
      "Encounter 5: scorpion\n",
      "\n",
      "Thx for playing the game\n"
     ]
    }
   ],
   "source": [
    "import java.util.Scanner; // Needed to make Scanner available\n",
    "\n",
    "class game //class\n",
    "{\n",
    "    String name; //field called name\n",
    "    int age;//field called age\n",
    "}\n",
    "\n",
    "class animal_game // class name\n",
    "{\n",
    "    public static void main(String [] a)\n",
    "    {\n",
    "        start(); // name of method\n",
    "        System.exit(0);\n",
    "    }\n",
    "\n",
    "    public static String question(String answer) //method called question. Variable of type String declared in header\n",
    "    {\n",
    "        Scanner scanner = new Scanner(System.in); //creates a link between keyboard and scanner software in program\n",
    "        System.out.println(answer); \n",
    "\n",
    "        String question_answer = scanner.nextLine(); //stores whatever the user types in, in this string\n",
    "        return question_answer; // ends method, jumps back to where code was called\n",
    "    }\n",
    "\n",
    "    public static int number(String amount) //method called number. Variable of type String declared in header\n",
    "    {\n",
    "        String number_amount = question(amount); // argument is passed to method question. This is evaluated and later turned into an integer\n",
    "        return Integer.parseInt(number_amount); //changes what the user typed in into an integer using this built in method\n",
    "    }\n",
    "\n",
    "    public static game createGame(String name1, int age1) // the name inputted by the user and the age are passed as an argument to this method\n",
    "    {                                      \n",
    "        game fun = new game(); // we create a variable called fun. \n",
    "        fun.name = name1; // using dot notation, it directly sets the field in the record to the value stored in name1\n",
    "        fun.age = age1; //same as above but now sets it to the value stored in age1;\n",
    "        return fun; // ends method, jumps back to where code was called\n",
    "    }\n",
    "\n",
    "    public static int getage(game user) //this method pulls out the age. It is given the user age as an arguemnt\n",
    "    { \n",
    "        return user.age;// ends method, jumps back to where code was called\n",
    "    }\n",
    "\n",
    "    public static String getname(game real) // same as above\n",
    "    { \n",
    "        return real.name;// ends method, jumps back to where code was called\n",
    "    }\n",
    "\n",
    "    public static int potion_check(int potion_checks) //takes the number of potions left and stores it in a local variable\n",
    "    {\n",
    "        if (potion_checks==-1 || potion_checks==-2) //test. If either one evaluates to true, the first branch is executed\n",
    "        {\n",
    "            System.out.println();\n",
    "            System.out.println(\"Sorry, you ran out of potions. The game has ENDED.\"); //ends messsage\n",
    "            System.exit(0); //ends the program\n",
    "        }\n",
    "        else // if the test is false, this branch is executed\n",
    "        {\n",
    "            System.out.println();\n",
    "        }\n",
    "        return potion_checks;// ends method, jumps back to where code was called\n",
    "    }\n",
    "\n",
    "    public static void start () // method called start\n",
    "    {\n",
    "        String namee = question(\"What is your name brave warrior?\"); //asks user what their name is\n",
    "        int agee = number(\"How old are you on this day of reckoning?\");// asks user their age\n",
    "        game information = createGame(namee,agee);\n",
    "        //we call the createGame method, but we are now hiding the fact that we are creating a new record\n",
    "        //The values given by the user are passed to the createGame method\n",
    "        \n",
    "        System.out.println();\n",
    "\n",
    "        System.out.println(\"Nice to meet you \" + getname(information) + \". Devil Fruit forest has been expecting you.\");\n",
    "        System.out.println(\"At the age of \" + getage(information) + \" you will be the youngest warrior to ever set foot in this doomed forest\");\n",
    "        System.out.println(\"The adventure will soon commence and your aim is to heal the injured animals. This can be done by using potions or plants that you may find on the way\");\n",
    "        System.out.println(\"Once you encounter 5 animals the game will end!\");\n",
    "        System.out.println(\"You will be given a number of potions before you enter. Plants can be collected and used to heal bigger animals\");\n",
    "        System.out.println(\"You should also remember to NEVER touch a spider. IF you do, you will DIE!\");\n",
    "\n",
    "        System.out.println();\n",
    "        int initial_potion = number(\"How many potions would you like to start off with? (10 is recommended)\"); //asks user how many potions they would like to start off with\n",
    "        System.out.println(\"The gates will open in 5..4..3..2..1\");\n",
    "        System.out.println(\"You may enter the forest. Beware of the dangers. Good luck \" + getname(information)); //uses getter method to pull the valur\n",
    "        System.out.println();\n",
    "\n",
    "        potion_check(initial_potion); //passes number of potions to method\n",
    "        encounter1(initial_potion); //passes number of potions to next method\n",
    "        return;\n",
    "    }\n",
    "\n",
    "\n",
    "    public static int encounter1(int potion_start) //method created and variable of type int declared in header\n",
    "    {\n",
    "        int plants1 = 0; //variable declared and initialised\n",
    "        final int number_animals = 5; //final int which holds the size of the array\n",
    "\n",
    "        String[] animal_names = new String[number_animals]; // new array declared. Will be able to hold 5 elements\n",
    "        animal_names[0] = \"deer\"; //first element in array is the string deer\n",
    "\n",
    "        System.out.println(\"Oh no! There is an injured \" + animal_names[0] + \" behind the Gates of Justice.\");\n",
    "        System.out.println(\"It has lost a leg!\");\n",
    "        System.out.println(\"(If major, 2 potions are used. If minor, 1 potion is used)\"); //just info\n",
    "        System.out.println();\n",
    "        String save1 = question(\"Decide whether the deer's injury is major or minor\"); //asks user\n",
    "\n",
    "        if (save1.equals(\"major\"))//answer typed by user is major, this branch is run\n",
    "        {\n",
    "            System.out.println();\n",
    "            System.out.println(\"Well done. You assessed the situation correctly. 2 potion will be used up\");\n",
    "            potion_start = potion_start-2; //number of potions given by user -2\n",
    "            potion_check(potion_start); //checks number of potions still positive\n",
    "            System.out.println(\"There also seem to be some more plants next to where the deer lays. These will help you heal bigger animals in the future\");\n",
    "            plants1 = 3; //variable plants given new value\n",
    "        }\n",
    "        else if (save1.equals(\"minor\")) //answer given by user is minor, this branch is run\n",
    "        {\n",
    "            System.out.println();\n",
    "            System.out.println(\"Well done. You assessed the situation correctly. 1 potion will be used up\");\n",
    "            potion_start = potion_start-1; //1 is removed from number\n",
    "            potion_check(potion_start); //checks number of potions is not negative\n",
    "            System.out.println(\"There also seem to be some more plants next to where the deer lays. These will help you heal bigger animals in the future\");\n",
    "            plants1 = 3; //variable plants given a new value\n",
    "        }\n",
    "        else\n",
    "        {\n",
    "            System.out.println(\"You have failed to assess the situation correctly. The animal died and you lost a potion\");\n",
    "            potion_start = potion_start-1; //-1 from value given by user\n",
    "            potion_check(potion_start); // checks if potions not negative\n",
    "            plants1 = 2; // new value\n",
    "        }\n",
    "\n",
    "        System.out.println();\n",
    "        System.out.println(\"Potions left: \" + potion_start); //prints out how many potions left\n",
    "        System.out.println(\"You have also collected \" + plants1 + \" plants. Remember, you can use these to heal bigger animals\");\n",
    "\n",
    "        CPR(potion_start, animal_names, plants1); //passes values to next method\n",
    "\n",
    "        return potion_start; // ends method, jumps back to where code was called\n",
    "    }\n",
    "\n",
    "    public static int CPR(int potion_num1, String[] animal_names2, int plants2) // local variables declared in header\n",
    "    {\n",
    "        int potion_num = potion_num1; // new variable will hold number of potions left\n",
    "        System.out.println();\n",
    "\n",
    "        animal_names2[1] = question(\"What is your favorite animal?\"); //user's answer is stored as second element in array\n",
    "\n",
    "        System.out.println();\n",
    "        System.out.println(\"You have already encountered your first animal. Be ready to encounter more as you travel through the forest\");\n",
    "        System.out.println();\n",
    "        System.out.println(\"Oh no! there is a \" + animal_names2[1] + \" that has been harmed. This is a beyond major injury\");\n",
    "\n",
    "        for (int i=0; i<1; i++) //for loop. WIll continue 2 times\n",
    "        {\n",
    "            String press = question(\"Give the bird CPR by pressing on its chest! (enter 'press')\"); //tells user to type press\n",
    "            potion_num = potion_num-1; //number of potions decreased\n",
    "            potion_check(potion_num); //checks number of potions not negative\n",
    "\n",
    "            if (press.equals(\"press\") || press.equals(\"Press\")) //compares values. if test is true, this brancg is run\n",
    "            {\n",
    "                press = question(\"press again!\");\n",
    "                potion_num = potion_num - 1; //value of potions decreased\n",
    "                potion_check(potion_num);\n",
    "            }\n",
    "            else //this branch is run\n",
    "            {\n",
    "                System.out.println(\"The bird died, and you lose 2 potions\");\n",
    "                potion_num = potion_num-1;\n",
    "            }\n",
    "        }\n",
    "        System.out.println();\n",
    "        System.out.println(\"There also seem to be some plants behind the tree trunk to your left. Grab them.\");\n",
    "\n",
    "        System.out.println(\"*Grabbing noises*\");\n",
    "        plants2 = plants2 + 1; //plants incremented by 1\n",
    "\n",
    "        System.out.println();\n",
    "        System.out.println(\"Potions left: \" + potion_num); //prints out number of potions left\n",
    "        System.out.println(\"Number of plants collected: \" + plants2);//as above but plants\n",
    "        riddle(potion_num, animal_names2, plants2); //passes values to next method\n",
    "\n",
    "        return potion_num;// ends method, jumps back to where code was called\n",
    "    }\n",
    "\n",
    "    public static String riddle(int number_potions, String[] animal_names3, int plants3) //declares local variables in header\n",
    "    {    \n",
    "        System.out.println();\n",
    "        System.out.println(\"If you walk up the hill of death you will come across the Tree of Life.\");\n",
    "        System.out.println(\"The Tree of Life used to be a man who had an unlimited amount of knowledge. He knew everything.\");\n",
    "        System.out.println(\"Knowing too much led to his downfall. He tried to claim being God and so he was turned into a tree\");\n",
    "        System.out.println(\"When you approach the tree look down. Do not worry about the rest. Go now.\");\n",
    "\n",
    "        System.out.println(\"You will have to answer 2 riddles. If both of your answers are wrong you lose 2 potions. Only 1 answer needs to be correct to enter the next part of the forest.\");\n",
    "\n",
    "        String play = \"\";\n",
    "        String difficulty = \"\";\n",
    "\n",
    "        String answer1 = \"\";       //5 variables of type String declared, each will hold different values\n",
    "        String answer2 = \"\";\n",
    "        String answer3 = \"\";\n",
    "\n",
    "        while(!play.equals(\"stop\")) //loop will continue as long as sentinel value not entered\n",
    "        {\n",
    "            System.out.println();\n",
    "            System.out.println(\"Focus. Think about the question and fill in your answer\");\n",
    "\n",
    "            for(int i=0; i<=1; i++) // for loop will continue 2 times\n",
    "            {\n",
    "                System.out.println();\n",
    "                difficulty = question(\"How hard would you like the riddle to be? (Hard, Medium, Easy)\"); //user is asked\n",
    "\n",
    "                if(difficulty.equals(\"Hard\")) //this branch is run if answer is hard\n",
    "                {\n",
    "                    System.out.println();\n",
    "                    answer1 = question(\"Until I am measured, I am not known. Yet how you miss me, When I have flown. What am I?\");\n",
    "                }\n",
    "                else if(difficulty.equals(\"Medium\"))//this branch is run if answer is medium\n",
    "                {\n",
    "                    System.out.println();\n",
    "                    answer2 = question(\"What can fill a room but takes up no space?\");//question\n",
    "                }\n",
    "                else if(difficulty.equals(\"Easy\"))//this branch is run if answer is easy\n",
    "                {\n",
    "                    System.out.println();\n",
    "                    answer3 = question(\"The more of this there is, the less you see. What is it?\");//question\n",
    "                }\n",
    "                else\n",
    "                {\n",
    "                    System.out.println();\n",
    "                    System.out.println(\"You failed to give a difficulty\");\n",
    "                }\n",
    "            }\n",
    "            System.out.println();\n",
    "            play = question(\"You want to answer 2 riddles again? (enter 'stop' if not)\"); //if user types stop, loop will end\n",
    "        }\n",
    "        question_riddle(answer1, answer2, answer3, number_potions, animal_names3, plants3); //arguments passed\n",
    "        return difficulty; // ends method, jumps back to where code was called\n",
    "    }\n",
    "\n",
    "    public static int question_riddle(String riddle_answer1, String riddle_answer2, String riddle_answer3, int potion_num, String[] animal_names4, int plants4)\n",
    "    {\n",
    "        int count = 0; //counter variable declared\n",
    "\n",
    "        if (riddle_answer1.equals(\"Time\") || riddle_answer2.equals(\"Darkness\") || riddle_answer3.equals(\"Light\")) \n",
    "        { //if any of the above answer, then this branch is run\n",
    "            count = count + 1; //counter incremented by 1\n",
    "            plants4 = plants4 + 1; //plants incremented by 1\n",
    "        }\n",
    "        else if (riddle_answer1.equals(\"time\") || riddle_answer2.equals(\"darkness\") || riddle_answer3.equals(\"light\"))\n",
    "        {\n",
    "            count = count + 1; //counter incremented by 1\n",
    "            plants4 = plants4 + 1;//plants incremented by 1\n",
    "        }\n",
    "        else //otherwise this is run\n",
    "        {\n",
    "            potion_num = potion_num-2; //potions decreased\n",
    "            potion_check(potion_num); //potion checked\n",
    "        }\n",
    "        riddle_forest(count, potion_num, animal_names4, plants4); //values are passed\n",
    "        return count;// ends method, jumps back to where code was called\n",
    "\n",
    "    }\n",
    "\n",
    "    public static int riddle_forest(int counter, int potionNumber, String[] animal_names5, int plants5)\n",
    "    {    \n",
    "        if (counter==0) // test\n",
    "        {\n",
    "            System.out.println(\"You did not got any right. You may enter the forest. You will however, lose 2 potions\");\n",
    "            System.out.println();\n",
    "            System.out.println(\"Potions left:\" + potionNumber);  //number of potions printed out\n",
    "        }\n",
    "        else\n",
    "        {\n",
    "            System.out.println();\n",
    "            System.out.println(\"You may enter the 2nd part of the forest without losing potions\");\n",
    "        }\n",
    "\n",
    "        System.out.println();\n",
    "        System.out.println(\"Oh wow! There seems to be a plant next to the Tree of Life\");\n",
    "        String grab = question(\"Grab the plant (type 'grab')\"); //if user types grab, they get another plant\n",
    "\n",
    "        if (grab.equals(\"grab\")) //if true, first branch is run\n",
    "        {\n",
    "            System.out.println(\"You gained 1 plant!\");\n",
    "            plants5 = plants5 + 1; //plant incremented by 1\n",
    "        }\n",
    "        else\n",
    "        {\n",
    "            System.out.println(\"You entered the 2nd part of the forest without grabbing the plant.\");\n",
    "        }\n",
    "\n",
    "        System.out.println(\"Number of plants: \" + plants5); //number of plants printed out\n",
    "\n",
    "        third_encounter(potionNumber, animal_names5, plants5); //values passed\n",
    "        return counter;// ends method, jumps back to where code was called\n",
    "    }\n",
    "\n",
    "    public static int third_encounter(int potion_number5, String[] animal_names6, int plants6)\n",
    "    {\n",
    "        animal_names6[2] = \"elephant\"; // third element stored inside array will be elephant\n",
    "\n",
    "        System.out.println();\n",
    "        System.out.println(\"You have entered the 2nd part of the forest. You so far have encountered a \" + animal_names6[0] + \" and a \" + animal_names6[1]);\n",
    "        System.out.println(\"You will now encounter animals that are deadly\"); //just some more info\n",
    "\n",
    "        System.out.println();\n",
    "        System.out.println(\"*rumbling noises*\");\n",
    "        System.out.println(\"An \" + animal_names6[2] + \"! It looks like its leg is injured! It is asking for help! Make sure to heal it properly!\");\n",
    "        System.out.println(\"(Because you have been collecting plants, you will be able to heal bigger animals!)\");\n",
    "        System.out.println(\"(If you pick minor, 2 potions will be used. If you pick major 1 plant is used.\"); //info\n",
    "\n",
    "        String injury = question(\"Is the \" + animal_names6[2] + \"'s injury minor or major?\"); //user is asked how severe the injury is\n",
    "\n",
    "        if (injury.equals(\"minor\")) //if true, then this first branch is run\n",
    "        {\n",
    "            System.out.println();\n",
    "            System.out.println(\"Well done. You assessed the situation correctly. 2 potions will be used up.\");\n",
    "            plants6 = plants6; //number of plants stays the same\n",
    "            potion_number5 = potion_number5-2; // number of potions decreased\n",
    "            potion_check(potion_number5); //number of potions checked\n",
    "        }\n",
    "        else if (injury.equals(\"major\")) //if true, this branch is run\n",
    "        {\n",
    "            System.out.println();\n",
    "            System.out.println(\"Well done. You assessed the situation correctly. Only 1 plant will be used up!\");\n",
    "            plants6 = plants6-1; //number of plants decreased by 1\n",
    "            plant_check(plants6); //number of plants checked\n",
    "        } \n",
    "        else //if none true, this branch is run\n",
    "        {\n",
    "            System.out.println(\"You have failed to assess the situation correctly. The animal died and you lost a potion and a plant\");\n",
    "            potion_number5 = potion_number5-1; //number of potions minus1\n",
    "            plants6 = plants6-1; //number of plants decreased\n",
    "            potion_check(potion_number5); //number of potions checked\n",
    "        }\n",
    "        System.out.println();\n",
    "        System.out.println(\"Potions left: \" + potion_number5);\n",
    "        System.out.println(\"You have \" + plants6 + \" plants left\"); //number of plants left is printed out\n",
    "        fourth_encounter(potion_number5, animal_names6, plants6); //values passed to method\n",
    "        return potion_number5;// ends method, jumps back to where code was called\n",
    "    }\n",
    "\n",
    "    public static int fourth_encounter(int potion_number6, String[] animal_names7, int plants7)\n",
    "    {\n",
    "        animal_names7[3] = \"dragon\"; //fourth element inside array is dragon\n",
    "\n",
    "        System.out.println(\"There... behind that bridge!. A DRAGON. It seems like it is hurt. Try to aid it.\");\n",
    "        System.out.println(\"(You still have plants left and so you can use these to heal this monster)\");\n",
    "        System.out.println(\"You have been brave. You have shown heart and will now encounter one of the most feared animals in Devil Fruit forest\");\n",
    "        System.out.println(\"You will have to heal an injured \" + animal_names7[3]); \n",
    "        System.out.println(\"If you fail to heal the animal, you will lose 4 potions and 2 plants\");\n",
    "        System.out.println(); //info\n",
    "        String dragon_help = question(\"It has a cut under its right wing. Throw 1 potion at the injury by shouting 'throw', (type 'throw') and rub 4 plants on the injury\");\n",
    "\n",
    "        if (dragon_help.equals(\"throw\") || dragon_help.equals(\"Throw\")) //if either of the tests is true, first branch is run\n",
    "        {\n",
    "            System.out.println();\n",
    "            potion_number6 = potion_number6-1; //number of potions decreased\n",
    "            potion_check(potion_number6); //number of potions checked\n",
    "            System.out.println(\"Well done. You saved the dragon!\");\n",
    "            plants7 = plants7 - 4; //plants decreased\n",
    "            plant_check(plants7); //plants checked\n",
    "        }\n",
    "        else\n",
    "        {\n",
    "            System.out.println();\n",
    "            System.out.println(\"The dragon died. 3 potions will be used up\");\n",
    "            System.out.println(\"2 plants will also be used up\");\n",
    "            potion_number6 = potion_number6-4;//number of potions decreased by 4\n",
    "            plants7 = plants7 - 2; //number of plants decreased\n",
    "            potion_check(potion_number6); //number of potions checked\n",
    "        }\n",
    "        System.out.println();\n",
    "        System.out.println(\"Potions left: \" + potion_number6); //potions left printed out\n",
    "        System.out.println(\"Plants left: \" + plants7); //plants left printed out\n",
    "\n",
    "        last_encounter(potion_number6, animal_names7, plants7); //values passed to method\n",
    "        return potion_number6;// ends method, jumps back to where code was called\n",
    "    }\n",
    "\n",
    "    public static int plant_check(int plants)\n",
    "    {\n",
    "        if (plants==-1 || plants==-2 || plants==-3) //if any of these tests is true, this branch is run\n",
    "        {\n",
    "            System.out.println(\"You ran out of plants!\");\n",
    "            System.out.println(\"The game has ENDED\"); //ends message\n",
    "            System.exit(0); //ends program\n",
    "        }\n",
    "        else //otherwise this branch is run\n",
    "        {\n",
    "            System.out.println();\n",
    "        }\n",
    "        return plants;// ends method, jumps back to where code was called\n",
    "    }\n",
    "\n",
    "    public static int last_encounter(int potion_number7, String[] animal_names8, int plants8)\n",
    "    {\n",
    "        System.out.println();\n",
    "        System.out.println(\"This will be your last encounter with an animal. You have proven yourself to be a valiant warrior\");\n",
    "\n",
    "        System.out.println();\n",
    "        animal_names8[4] = question(\"You will now have heal one of these 2 animals. A spider or a scorpion. Pick one\");\n",
    "        //user should enter scorpion\n",
    "        System.out.println();\n",
    "\n",
    "        if (animal_names8[4].equals(\"scorpion\") || animal_names8[4].equals(\"Scorpion\")) //if either of these is true, this branch is run\n",
    "        {\n",
    "            System.out.println();\n",
    "            System.out.println(\"You will have the help the scorpion that has been put in front you\");\n",
    "            System.out.println(\"Re-attach its leg and pour a potion on it. You will lose 1 potion\");\n",
    "            String help = question(\"Shoutout the word 'POWER' to heal this scorpion and snap your finger. (Type 'POWER')\");\n",
    "            //user is told to type the word power to heal the scorpion\n",
    "\n",
    "            if (help.equals(\"POWER\")) //if true, this branch is run\n",
    "            { \n",
    "                System.out.println();\n",
    "                potion_number7 = potion_number7-1; //number of potions decreased by 1\n",
    "                potion_check(potion_number7); //number of potions is checked\n",
    "                end(potion_number7, animal_names8, plants8); //values passed to final method\n",
    "            }\n",
    "            else//if wrong, the game will end as this branch is run\n",
    "            {\n",
    "                System.out.println(\"You shouted out the wrong words. The darkness will overtake your soul and you shall die a painful death\");\n",
    "                potion_number7 = -1;//number of potions set to -1\n",
    "                potion_check(potion_number7); //number of potions is set to -1, and is then checked, meaning the game will end\n",
    "            }\n",
    "        }\n",
    "        else if(animal_names8[4].equals(\"Spider\") || animal_names8[4].equals(\"spider\")) //if either is true, this branch is run\n",
    "        {\n",
    "            System.out.println();\n",
    "            System.out.println(\"You will be covered by spiders. They will crawl out of your ears, eyes and mouth.\");\n",
    "            System.out.println(\"You have not listened well. You were informed by the Lords of Fire that you should never touch a spider!\");\n",
    "            System.out.println(\"All of your potions will be used up!\");\n",
    "            potion_number7 = -1; //number of potions set to -1\n",
    "            potion_check(potion_number7); //this is then checked and the game will end\n",
    "        }\n",
    "        else //if the user didn't type any of the animal names then this branch is run\n",
    "        {\n",
    "            System.out.println();\n",
    "            System.out.println(\"You failed to answer and will face death!\");\n",
    "            potion_number7 = -1; //number of potions is et to -1\n",
    "            potion_check(potion_number7); //number of potions checked and the game will end\n",
    "        }\n",
    "        return potion_number7;// ends method, jumps back to where code was called\n",
    "    }\n",
    "\n",
    "    public static int end(int potion_number8, String[] animal_names9, int plants9)\n",
    "    {\n",
    "        System.out.println(\"Well done! You have encountered 5 animals! Hope you enjoyed the game!\"); //end message\n",
    "        \n",
    "        System.out.println();\n",
    "        System.out.println(\"Final number of plants: \" + plants9); //prints final number of plants\n",
    "        System.out.println(\"Final number of potions: \" + potion_number8); //prints final number of potions\n",
    "        System.out.println();\n",
    "        \n",
    "        for (int i=0; i<5; i++)\n",
    "        {\n",
    "            System.out.println(\"Encounter \" + (i+1) + \": \" + animal_names9[i]);\n",
    "        }\n",
    "        \n",
    "        System.out.println();\n",
    "        System.out.println(\"Thx for playing the game\");\n",
    "        \n",
    "        return plants9;// ends method, jumps back to where code was called\n",
    "    }\n",
    "} \n",
    "animal_game.start();  //method called"
   ]
  },
  {
   "cell_type": "markdown",
   "metadata": {},
   "source": [
    "**END OF LITERATE DOCUMENT**"
   ]
  }
 ],
 "metadata": {
  "kernelspec": {
   "display_name": "Java",
   "language": "java",
   "name": "java"
  },
  "language_info": {
   "codemirror_mode": "java",
   "file_extension": ".jshell",
   "mimetype": "text/x-java-source",
   "name": "Java",
   "pygments_lexer": "java",
   "version": "11.0.8+10-LTS"
  }
 },
 "nbformat": 4,
 "nbformat_minor": 4
}
